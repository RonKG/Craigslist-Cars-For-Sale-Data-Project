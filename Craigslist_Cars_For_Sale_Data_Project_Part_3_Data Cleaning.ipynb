{
  "nbformat": 4,
  "nbformat_minor": 5,
  "metadata": {
    "colab": {
      "name": "Craigslist Cars For Sale Data Project: Part 3- Data Cleaning.ipynb",
      "provenance": [],
      "collapsed_sections": [],
      "include_colab_link": true
    },
    "kernelspec": {
      "display_name": "Python 3",
      "language": "python",
      "name": "python3"
    },
    "language_info": {
      "codemirror_mode": {
        "name": "ipython",
        "version": 3
      },
      "file_extension": ".py",
      "mimetype": "text/x-python",
      "name": "python",
      "nbconvert_exporter": "python",
      "pygments_lexer": "ipython3",
      "version": "3.7.3"
    }
  },
  "cells": [
    {
      "cell_type": "markdown",
      "metadata": {
        "id": "view-in-github",
        "colab_type": "text"
      },
      "source": [
        "<a href=\"https://colab.research.google.com/github/RonKG/Craigslist-Cars-For-Sale-Data-Project/blob/main/Craigslist_Cars_For_Sale_Data_Project_Part_3_Data%C2%A0Cleaning.ipynb\" target=\"_parent\"><img src=\"https://colab.research.google.com/assets/colab-badge.svg\" alt=\"Open In Colab\"/></a>"
      ]
    },
    {
      "cell_type": "markdown",
      "metadata": {
        "id": "2055KuKhF1JD"
      },
      "source": [
        "# <font color='red'> Import libraries </font>"
      ],
      "id": "2055KuKhF1JD"
    },
    {
      "cell_type": "code",
      "metadata": {
        "id": "nxDudMFGF1JJ"
      },
      "source": [
        "# work with dataframes\n",
        "import pandas as pd\n",
        "import numpy as np\n",
        "import matplotlib.pyplot as plt\n",
        "\n",
        "# regular expressions\n",
        "import re\n",
        "\n",
        "# we'll use this to store the a dataframe to csv at a later stage\n",
        "import csv\n",
        "\n",
        "# You can change the preview float_format of numericals in pandas set_option\n",
        "# from scientific notation to 4 decimals\n",
        "pd.set_option('display.float_format', lambda x: '%.4f' % x)\n",
        "\n",
        "#  plot your charts into your Jupyter Notebook\n",
        "%matplotlib inline"
      ],
      "id": "nxDudMFGF1JJ",
      "execution_count": 128,
      "outputs": []
    },
    {
      "cell_type": "markdown",
      "metadata": {
        "id": "abf0PBcuF1Jk"
      },
      "source": [
        "#  <font color='red'> Load data and perform additional cleaning </font>"
      ],
      "id": "abf0PBcuF1Jk"
    },
    {
      "cell_type": "code",
      "metadata": {
        "id": "m4S3Ij5Xnw1T",
        "colab": {
          "base_uri": "https://localhost:8080/"
        },
        "outputId": "bf789a0f-45fb-454b-f590-8ee1fee44d33"
      },
      "source": [
        "# data from webscrapping is stored in GoogleDrive\n",
        "\n",
        "from google.colab import drive\n",
        "drive.mount('/content/drive')"
      ],
      "id": "m4S3Ij5Xnw1T",
      "execution_count": 335,
      "outputs": [
        {
          "output_type": "stream",
          "name": "stdout",
          "text": [
            "Drive already mounted at /content/drive; to attempt to forcibly remount, call drive.mount(\"/content/drive\", force_remount=True).\n"
          ]
        }
      ]
    },
    {
      "cell_type": "code",
      "metadata": {
        "colab": {
          "base_uri": "https://localhost:8080/",
          "height": 373
        },
        "id": "nUEdaoZbk-xe",
        "outputId": "93f5d0bd-3583-4348-87a4-c0101ce13abc"
      },
      "source": [
        "# import the Craigslist scrapped csv from the webscrapping section\n",
        "df = pd.read_csv('/content/drive/MyDrive/Data Science/craigslistproject/original_data.csv', \n",
        "                 sep='\\t', \n",
        "                 engine='python')\n",
        "\n",
        "\n",
        "# preview the data frame size\n",
        "print('Number of rows --> ', df.shape[0], \n",
        "      '\\nNumber of columns --> ', df.shape[1],\n",
        "      '\\n\\n')\n",
        "\n",
        "\n",
        "# prevew the data\n",
        "df.head()"
      ],
      "id": "nUEdaoZbk-xe",
      "execution_count": 412,
      "outputs": [
        {
          "output_type": "stream",
          "name": "stdout",
          "text": [
            "Number of rows -->  24427 \n",
            "Number of columns -->  19 \n",
            "\n",
            "\n"
          ]
        },
        {
          "output_type": "execute_result",
          "data": {
            "text/html": [
              "<div>\n",
              "<style scoped>\n",
              "    .dataframe tbody tr th:only-of-type {\n",
              "        vertical-align: middle;\n",
              "    }\n",
              "\n",
              "    .dataframe tbody tr th {\n",
              "        vertical-align: top;\n",
              "    }\n",
              "\n",
              "    .dataframe thead th {\n",
              "        text-align: right;\n",
              "    }\n",
              "</style>\n",
              "<table border=\"1\" class=\"dataframe\">\n",
              "  <thead>\n",
              "    <tr style=\"text-align: right;\">\n",
              "      <th></th>\n",
              "      <th>VIN</th>\n",
              "      <th>city</th>\n",
              "      <th>condition</th>\n",
              "      <th>cylinders</th>\n",
              "      <th>date time</th>\n",
              "      <th>drive</th>\n",
              "      <th>fuel</th>\n",
              "      <th>lat</th>\n",
              "      <th>long</th>\n",
              "      <th>odometer</th>\n",
              "      <th>pID</th>\n",
              "      <th>paint color</th>\n",
              "      <th>post_body</th>\n",
              "      <th>price</th>\n",
              "      <th>size</th>\n",
              "      <th>title status</th>\n",
              "      <th>transmission</th>\n",
              "      <th>type</th>\n",
              "      <th>year make model</th>\n",
              "    </tr>\n",
              "  </thead>\n",
              "  <tbody>\n",
              "    <tr>\n",
              "      <th>0</th>\n",
              "      <td>NaN</td>\n",
              "      <td>dallas</td>\n",
              "      <td>excellent</td>\n",
              "      <td>8 cylinders</td>\n",
              "      <td>2021-09-24 23:08</td>\n",
              "      <td>fwd</td>\n",
              "      <td>gas</td>\n",
              "      <td>32.82572</td>\n",
              "      <td>-97.48160</td>\n",
              "      <td>2200</td>\n",
              "      <td>7385198555.00000</td>\n",
              "      <td>black</td>\n",
              "      <td>Navigator L Nice n clean With navigation syste...</td>\n",
              "      <td>5200</td>\n",
              "      <td>full-size</td>\n",
              "      <td>salvage</td>\n",
              "      <td>automatic</td>\n",
              "      <td>SUV</td>\n",
              "      <td>2007 Lincoln navigator</td>\n",
              "    </tr>\n",
              "    <tr>\n",
              "      <th>1</th>\n",
              "      <td>KL8CB6SA9HC828034</td>\n",
              "      <td>dallas</td>\n",
              "      <td>good</td>\n",
              "      <td>4 cylinders</td>\n",
              "      <td>2021-09-24 23:05</td>\n",
              "      <td>fwd</td>\n",
              "      <td>gas</td>\n",
              "      <td>32.74812</td>\n",
              "      <td>-97.07658</td>\n",
              "      <td>105119</td>\n",
              "      <td>7385198033.00000</td>\n",
              "      <td>grey</td>\n",
              "      <td>Won t last long</td>\n",
              "      <td>3250</td>\n",
              "      <td>compact</td>\n",
              "      <td>clean</td>\n",
              "      <td>automatic</td>\n",
              "      <td>NaN</td>\n",
              "      <td>2017 chevy spark ls</td>\n",
              "    </tr>\n",
              "    <tr>\n",
              "      <th>2</th>\n",
              "      <td>NaN</td>\n",
              "      <td>dallas</td>\n",
              "      <td>NaN</td>\n",
              "      <td>NaN</td>\n",
              "      <td>2021-09-24 22:53</td>\n",
              "      <td>NaN</td>\n",
              "      <td>gas</td>\n",
              "      <td>32.60410</td>\n",
              "      <td>-96.86530</td>\n",
              "      <td>131913</td>\n",
              "      <td>7385195889.00000</td>\n",
              "      <td>NaN</td>\n",
              "      <td>Am Selling MY Beautiful 2010 Nissan Xterra In ...</td>\n",
              "      <td>6950</td>\n",
              "      <td>NaN</td>\n",
              "      <td>clean</td>\n",
              "      <td>automatic</td>\n",
              "      <td>NaN</td>\n",
              "      <td>2010 Nissan Xterra SE 4x4</td>\n",
              "    </tr>\n",
              "    <tr>\n",
              "      <th>3</th>\n",
              "      <td>NaN</td>\n",
              "      <td>dallas</td>\n",
              "      <td>NaN</td>\n",
              "      <td>NaN</td>\n",
              "      <td>2021-09-24 22:50</td>\n",
              "      <td>NaN</td>\n",
              "      <td>gas</td>\n",
              "      <td>32.58990</td>\n",
              "      <td>-96.85690</td>\n",
              "      <td>138418</td>\n",
              "      <td>7385195357.00000</td>\n",
              "      <td>NaN</td>\n",
              "      <td>Am Selling My Beautiful Ford 2005 F150 Crew Ca...</td>\n",
              "      <td>6950</td>\n",
              "      <td>NaN</td>\n",
              "      <td>clean</td>\n",
              "      <td>automatic</td>\n",
              "      <td>NaN</td>\n",
              "      <td>2005 Ford F150 Supercrew cab xlt</td>\n",
              "    </tr>\n",
              "    <tr>\n",
              "      <th>4</th>\n",
              "      <td>NaN</td>\n",
              "      <td>dallas</td>\n",
              "      <td>NaN</td>\n",
              "      <td>NaN</td>\n",
              "      <td>2021-09-24 22:47</td>\n",
              "      <td>NaN</td>\n",
              "      <td>gas</td>\n",
              "      <td>32.58990</td>\n",
              "      <td>-96.85690</td>\n",
              "      <td>240312</td>\n",
              "      <td>7385194815.00000</td>\n",
              "      <td>NaN</td>\n",
              "      <td>Am Selling My Beautiful 2003 GMC SEIRRA Condit...</td>\n",
              "      <td>3500</td>\n",
              "      <td>NaN</td>\n",
              "      <td>clean</td>\n",
              "      <td>automatic</td>\n",
              "      <td>NaN</td>\n",
              "      <td>2003 GMC SIERRA</td>\n",
              "    </tr>\n",
              "  </tbody>\n",
              "</table>\n",
              "</div>"
            ],
            "text/plain": [
              "                 VIN    city  ... type                   year make model\n",
              "0                NaN  dallas  ...  SUV            2007 Lincoln navigator\n",
              "1  KL8CB6SA9HC828034  dallas  ...  NaN               2017 chevy spark ls\n",
              "2                NaN  dallas  ...  NaN         2010 Nissan Xterra SE 4x4\n",
              "3                NaN  dallas  ...  NaN  2005 Ford F150 Supercrew cab xlt\n",
              "4                NaN  dallas  ...  NaN                   2003 GMC SIERRA\n",
              "\n",
              "[5 rows x 19 columns]"
            ]
          },
          "metadata": {},
          "execution_count": 412
        }
      ]
    },
    {
      "cell_type": "code",
      "metadata": {
        "colab": {
          "base_uri": "https://localhost:8080/"
        },
        "id": "GGT7n5Me1_uh",
        "outputId": "2666a148-241c-4540-f1e8-8d835b1a3624"
      },
      "source": [
        "# preview 'date time column'\n",
        "df['date time'].head(10)"
      ],
      "id": "GGT7n5Me1_uh",
      "execution_count": 413,
      "outputs": [
        {
          "output_type": "execute_result",
          "data": {
            "text/plain": [
              "0    2021-09-24 23:08\n",
              "1    2021-09-24 23:05\n",
              "2    2021-09-24 22:53\n",
              "3    2021-09-24 22:50\n",
              "4    2021-09-24 22:47\n",
              "5    2021-09-24 22:17\n",
              "6    2021-09-24 21:51\n",
              "7    2021-09-24 21:51\n",
              "8    2021-09-24 21:35\n",
              "9    2021-09-24 21:35\n",
              "Name: date time, dtype: object"
            ]
          },
          "metadata": {},
          "execution_count": 413
        }
      ]
    },
    {
      "cell_type": "code",
      "metadata": {
        "colab": {
          "base_uri": "https://localhost:8080/",
          "height": 355
        },
        "id": "O0r_XPJUSydK",
        "outputId": "1546a60b-abe1-4ec6-8d57-b8ebbca03baa"
      },
      "source": [
        "# create two columns, data and time by slicing the 'date time' column\n",
        "df['date'] = df['date time'].str.split(' ').str[0]\n",
        "df['time'] = df['date time'].str.split(' ').str[1].str.replace(';',':')\n",
        "\n",
        "df['date time'] =  pd.to_datetime(df['date time'], format='%Y-%m-%dT%H:%M')\n",
        "df['time'] = pd.to_datetime(df.time, format=\"%H:%M\")\n",
        "\n",
        "# preview the new columns\n",
        "df[['date time','date','time']].head(10)"
      ],
      "id": "O0r_XPJUSydK",
      "execution_count": 414,
      "outputs": [
        {
          "output_type": "execute_result",
          "data": {
            "text/html": [
              "<div>\n",
              "<style scoped>\n",
              "    .dataframe tbody tr th:only-of-type {\n",
              "        vertical-align: middle;\n",
              "    }\n",
              "\n",
              "    .dataframe tbody tr th {\n",
              "        vertical-align: top;\n",
              "    }\n",
              "\n",
              "    .dataframe thead th {\n",
              "        text-align: right;\n",
              "    }\n",
              "</style>\n",
              "<table border=\"1\" class=\"dataframe\">\n",
              "  <thead>\n",
              "    <tr style=\"text-align: right;\">\n",
              "      <th></th>\n",
              "      <th>date time</th>\n",
              "      <th>date</th>\n",
              "      <th>time</th>\n",
              "    </tr>\n",
              "  </thead>\n",
              "  <tbody>\n",
              "    <tr>\n",
              "      <th>0</th>\n",
              "      <td>2021-09-24 23:08:00</td>\n",
              "      <td>2021-09-24</td>\n",
              "      <td>1900-01-01 23:08:00</td>\n",
              "    </tr>\n",
              "    <tr>\n",
              "      <th>1</th>\n",
              "      <td>2021-09-24 23:05:00</td>\n",
              "      <td>2021-09-24</td>\n",
              "      <td>1900-01-01 23:05:00</td>\n",
              "    </tr>\n",
              "    <tr>\n",
              "      <th>2</th>\n",
              "      <td>2021-09-24 22:53:00</td>\n",
              "      <td>2021-09-24</td>\n",
              "      <td>1900-01-01 22:53:00</td>\n",
              "    </tr>\n",
              "    <tr>\n",
              "      <th>3</th>\n",
              "      <td>2021-09-24 22:50:00</td>\n",
              "      <td>2021-09-24</td>\n",
              "      <td>1900-01-01 22:50:00</td>\n",
              "    </tr>\n",
              "    <tr>\n",
              "      <th>4</th>\n",
              "      <td>2021-09-24 22:47:00</td>\n",
              "      <td>2021-09-24</td>\n",
              "      <td>1900-01-01 22:47:00</td>\n",
              "    </tr>\n",
              "    <tr>\n",
              "      <th>5</th>\n",
              "      <td>2021-09-24 22:17:00</td>\n",
              "      <td>2021-09-24</td>\n",
              "      <td>1900-01-01 22:17:00</td>\n",
              "    </tr>\n",
              "    <tr>\n",
              "      <th>6</th>\n",
              "      <td>2021-09-24 21:51:00</td>\n",
              "      <td>2021-09-24</td>\n",
              "      <td>1900-01-01 21:51:00</td>\n",
              "    </tr>\n",
              "    <tr>\n",
              "      <th>7</th>\n",
              "      <td>2021-09-24 21:51:00</td>\n",
              "      <td>2021-09-24</td>\n",
              "      <td>1900-01-01 21:51:00</td>\n",
              "    </tr>\n",
              "    <tr>\n",
              "      <th>8</th>\n",
              "      <td>2021-09-24 21:35:00</td>\n",
              "      <td>2021-09-24</td>\n",
              "      <td>1900-01-01 21:35:00</td>\n",
              "    </tr>\n",
              "    <tr>\n",
              "      <th>9</th>\n",
              "      <td>2021-09-24 21:35:00</td>\n",
              "      <td>2021-09-24</td>\n",
              "      <td>1900-01-01 21:35:00</td>\n",
              "    </tr>\n",
              "  </tbody>\n",
              "</table>\n",
              "</div>"
            ],
            "text/plain": [
              "            date time        date                time\n",
              "0 2021-09-24 23:08:00  2021-09-24 1900-01-01 23:08:00\n",
              "1 2021-09-24 23:05:00  2021-09-24 1900-01-01 23:05:00\n",
              "2 2021-09-24 22:53:00  2021-09-24 1900-01-01 22:53:00\n",
              "3 2021-09-24 22:50:00  2021-09-24 1900-01-01 22:50:00\n",
              "4 2021-09-24 22:47:00  2021-09-24 1900-01-01 22:47:00\n",
              "5 2021-09-24 22:17:00  2021-09-24 1900-01-01 22:17:00\n",
              "6 2021-09-24 21:51:00  2021-09-24 1900-01-01 21:51:00\n",
              "7 2021-09-24 21:51:00  2021-09-24 1900-01-01 21:51:00\n",
              "8 2021-09-24 21:35:00  2021-09-24 1900-01-01 21:35:00\n",
              "9 2021-09-24 21:35:00  2021-09-24 1900-01-01 21:35:00"
            ]
          },
          "metadata": {},
          "execution_count": 414
        }
      ]
    },
    {
      "cell_type": "code",
      "metadata": {
        "colab": {
          "base_uri": "https://localhost:8080/",
          "height": 355
        },
        "id": "9YTyNDvyW1m8",
        "outputId": "a6d0aba0-cad2-4532-d18f-8502f1c81210"
      },
      "source": [
        "# create numeric weekdays - this will come in handy in the analysis\n",
        "df['weekday'] = df['date'].apply(pd.to_datetime).dt.dayofweek\n",
        "\n",
        "# then preview new columns\n",
        "df[['date time','date','time','weekday']].head(10)"
      ],
      "id": "9YTyNDvyW1m8",
      "execution_count": 415,
      "outputs": [
        {
          "output_type": "execute_result",
          "data": {
            "text/html": [
              "<div>\n",
              "<style scoped>\n",
              "    .dataframe tbody tr th:only-of-type {\n",
              "        vertical-align: middle;\n",
              "    }\n",
              "\n",
              "    .dataframe tbody tr th {\n",
              "        vertical-align: top;\n",
              "    }\n",
              "\n",
              "    .dataframe thead th {\n",
              "        text-align: right;\n",
              "    }\n",
              "</style>\n",
              "<table border=\"1\" class=\"dataframe\">\n",
              "  <thead>\n",
              "    <tr style=\"text-align: right;\">\n",
              "      <th></th>\n",
              "      <th>date time</th>\n",
              "      <th>date</th>\n",
              "      <th>time</th>\n",
              "      <th>weekday</th>\n",
              "    </tr>\n",
              "  </thead>\n",
              "  <tbody>\n",
              "    <tr>\n",
              "      <th>0</th>\n",
              "      <td>2021-09-24 23:08:00</td>\n",
              "      <td>2021-09-24</td>\n",
              "      <td>1900-01-01 23:08:00</td>\n",
              "      <td>4</td>\n",
              "    </tr>\n",
              "    <tr>\n",
              "      <th>1</th>\n",
              "      <td>2021-09-24 23:05:00</td>\n",
              "      <td>2021-09-24</td>\n",
              "      <td>1900-01-01 23:05:00</td>\n",
              "      <td>4</td>\n",
              "    </tr>\n",
              "    <tr>\n",
              "      <th>2</th>\n",
              "      <td>2021-09-24 22:53:00</td>\n",
              "      <td>2021-09-24</td>\n",
              "      <td>1900-01-01 22:53:00</td>\n",
              "      <td>4</td>\n",
              "    </tr>\n",
              "    <tr>\n",
              "      <th>3</th>\n",
              "      <td>2021-09-24 22:50:00</td>\n",
              "      <td>2021-09-24</td>\n",
              "      <td>1900-01-01 22:50:00</td>\n",
              "      <td>4</td>\n",
              "    </tr>\n",
              "    <tr>\n",
              "      <th>4</th>\n",
              "      <td>2021-09-24 22:47:00</td>\n",
              "      <td>2021-09-24</td>\n",
              "      <td>1900-01-01 22:47:00</td>\n",
              "      <td>4</td>\n",
              "    </tr>\n",
              "    <tr>\n",
              "      <th>5</th>\n",
              "      <td>2021-09-24 22:17:00</td>\n",
              "      <td>2021-09-24</td>\n",
              "      <td>1900-01-01 22:17:00</td>\n",
              "      <td>4</td>\n",
              "    </tr>\n",
              "    <tr>\n",
              "      <th>6</th>\n",
              "      <td>2021-09-24 21:51:00</td>\n",
              "      <td>2021-09-24</td>\n",
              "      <td>1900-01-01 21:51:00</td>\n",
              "      <td>4</td>\n",
              "    </tr>\n",
              "    <tr>\n",
              "      <th>7</th>\n",
              "      <td>2021-09-24 21:51:00</td>\n",
              "      <td>2021-09-24</td>\n",
              "      <td>1900-01-01 21:51:00</td>\n",
              "      <td>4</td>\n",
              "    </tr>\n",
              "    <tr>\n",
              "      <th>8</th>\n",
              "      <td>2021-09-24 21:35:00</td>\n",
              "      <td>2021-09-24</td>\n",
              "      <td>1900-01-01 21:35:00</td>\n",
              "      <td>4</td>\n",
              "    </tr>\n",
              "    <tr>\n",
              "      <th>9</th>\n",
              "      <td>2021-09-24 21:35:00</td>\n",
              "      <td>2021-09-24</td>\n",
              "      <td>1900-01-01 21:35:00</td>\n",
              "      <td>4</td>\n",
              "    </tr>\n",
              "  </tbody>\n",
              "</table>\n",
              "</div>"
            ],
            "text/plain": [
              "            date time        date                time  weekday\n",
              "0 2021-09-24 23:08:00  2021-09-24 1900-01-01 23:08:00        4\n",
              "1 2021-09-24 23:05:00  2021-09-24 1900-01-01 23:05:00        4\n",
              "2 2021-09-24 22:53:00  2021-09-24 1900-01-01 22:53:00        4\n",
              "3 2021-09-24 22:50:00  2021-09-24 1900-01-01 22:50:00        4\n",
              "4 2021-09-24 22:47:00  2021-09-24 1900-01-01 22:47:00        4\n",
              "5 2021-09-24 22:17:00  2021-09-24 1900-01-01 22:17:00        4\n",
              "6 2021-09-24 21:51:00  2021-09-24 1900-01-01 21:51:00        4\n",
              "7 2021-09-24 21:51:00  2021-09-24 1900-01-01 21:51:00        4\n",
              "8 2021-09-24 21:35:00  2021-09-24 1900-01-01 21:35:00        4\n",
              "9 2021-09-24 21:35:00  2021-09-24 1900-01-01 21:35:00        4"
            ]
          },
          "metadata": {},
          "execution_count": 415
        }
      ]
    },
    {
      "cell_type": "code",
      "metadata": {
        "colab": {
          "base_uri": "https://localhost:8080/",
          "height": 414
        },
        "id": "mTWFpxaGW1px",
        "outputId": "f7dcd3cc-8162-4a7e-a5d7-da9fb1bd208e"
      },
      "source": [
        "# also create a categorical weekday label (mon, tue, etc..)\n",
        "\n",
        "# for this we create a (dayNumber, dayName) dictionary \n",
        "dayOfWeek={0:'Monday', 1:'Tuesday', 2:'Wednesday', 3:'Thursday', 4:'Friday', 5:'Saturday', 6:'Sunday'}\n",
        "\n",
        "# and map it to a new dayOfWeek column\n",
        "df['dayOfWeek'] = df[\"weekday\"].map(dayOfWeek)\n",
        "\n",
        "# then preview new columns\n",
        "df[['date time','date','time','weekday','dayOfWeek']]"
      ],
      "id": "mTWFpxaGW1px",
      "execution_count": 416,
      "outputs": [
        {
          "output_type": "execute_result",
          "data": {
            "text/html": [
              "<div>\n",
              "<style scoped>\n",
              "    .dataframe tbody tr th:only-of-type {\n",
              "        vertical-align: middle;\n",
              "    }\n",
              "\n",
              "    .dataframe tbody tr th {\n",
              "        vertical-align: top;\n",
              "    }\n",
              "\n",
              "    .dataframe thead th {\n",
              "        text-align: right;\n",
              "    }\n",
              "</style>\n",
              "<table border=\"1\" class=\"dataframe\">\n",
              "  <thead>\n",
              "    <tr style=\"text-align: right;\">\n",
              "      <th></th>\n",
              "      <th>date time</th>\n",
              "      <th>date</th>\n",
              "      <th>time</th>\n",
              "      <th>weekday</th>\n",
              "      <th>dayOfWeek</th>\n",
              "    </tr>\n",
              "  </thead>\n",
              "  <tbody>\n",
              "    <tr>\n",
              "      <th>0</th>\n",
              "      <td>2021-09-24 23:08:00</td>\n",
              "      <td>2021-09-24</td>\n",
              "      <td>1900-01-01 23:08:00</td>\n",
              "      <td>4</td>\n",
              "      <td>Friday</td>\n",
              "    </tr>\n",
              "    <tr>\n",
              "      <th>1</th>\n",
              "      <td>2021-09-24 23:05:00</td>\n",
              "      <td>2021-09-24</td>\n",
              "      <td>1900-01-01 23:05:00</td>\n",
              "      <td>4</td>\n",
              "      <td>Friday</td>\n",
              "    </tr>\n",
              "    <tr>\n",
              "      <th>2</th>\n",
              "      <td>2021-09-24 22:53:00</td>\n",
              "      <td>2021-09-24</td>\n",
              "      <td>1900-01-01 22:53:00</td>\n",
              "      <td>4</td>\n",
              "      <td>Friday</td>\n",
              "    </tr>\n",
              "    <tr>\n",
              "      <th>3</th>\n",
              "      <td>2021-09-24 22:50:00</td>\n",
              "      <td>2021-09-24</td>\n",
              "      <td>1900-01-01 22:50:00</td>\n",
              "      <td>4</td>\n",
              "      <td>Friday</td>\n",
              "    </tr>\n",
              "    <tr>\n",
              "      <th>4</th>\n",
              "      <td>2021-09-24 22:47:00</td>\n",
              "      <td>2021-09-24</td>\n",
              "      <td>1900-01-01 22:47:00</td>\n",
              "      <td>4</td>\n",
              "      <td>Friday</td>\n",
              "    </tr>\n",
              "    <tr>\n",
              "      <th>...</th>\n",
              "      <td>...</td>\n",
              "      <td>...</td>\n",
              "      <td>...</td>\n",
              "      <td>...</td>\n",
              "      <td>...</td>\n",
              "    </tr>\n",
              "    <tr>\n",
              "      <th>24422</th>\n",
              "      <td>2021-09-16 21:14:00</td>\n",
              "      <td>2021-09-16</td>\n",
              "      <td>1900-01-01 21:14:00</td>\n",
              "      <td>3</td>\n",
              "      <td>Thursday</td>\n",
              "    </tr>\n",
              "    <tr>\n",
              "      <th>24423</th>\n",
              "      <td>2021-09-16 21:05:00</td>\n",
              "      <td>2021-09-16</td>\n",
              "      <td>1900-01-01 21:05:00</td>\n",
              "      <td>3</td>\n",
              "      <td>Thursday</td>\n",
              "    </tr>\n",
              "    <tr>\n",
              "      <th>24424</th>\n",
              "      <td>2021-09-16 21:02:00</td>\n",
              "      <td>2021-09-16</td>\n",
              "      <td>1900-01-01 21:02:00</td>\n",
              "      <td>3</td>\n",
              "      <td>Thursday</td>\n",
              "    </tr>\n",
              "    <tr>\n",
              "      <th>24425</th>\n",
              "      <td>2021-09-16 20:57:00</td>\n",
              "      <td>2021-09-16</td>\n",
              "      <td>1900-01-01 20:57:00</td>\n",
              "      <td>3</td>\n",
              "      <td>Thursday</td>\n",
              "    </tr>\n",
              "    <tr>\n",
              "      <th>24426</th>\n",
              "      <td>2021-09-16 20:36:00</td>\n",
              "      <td>2021-09-16</td>\n",
              "      <td>1900-01-01 20:36:00</td>\n",
              "      <td>3</td>\n",
              "      <td>Thursday</td>\n",
              "    </tr>\n",
              "  </tbody>\n",
              "</table>\n",
              "<p>24427 rows × 5 columns</p>\n",
              "</div>"
            ],
            "text/plain": [
              "                date time        date                time  weekday dayOfWeek\n",
              "0     2021-09-24 23:08:00  2021-09-24 1900-01-01 23:08:00        4    Friday\n",
              "1     2021-09-24 23:05:00  2021-09-24 1900-01-01 23:05:00        4    Friday\n",
              "2     2021-09-24 22:53:00  2021-09-24 1900-01-01 22:53:00        4    Friday\n",
              "3     2021-09-24 22:50:00  2021-09-24 1900-01-01 22:50:00        4    Friday\n",
              "4     2021-09-24 22:47:00  2021-09-24 1900-01-01 22:47:00        4    Friday\n",
              "...                   ...         ...                 ...      ...       ...\n",
              "24422 2021-09-16 21:14:00  2021-09-16 1900-01-01 21:14:00        3  Thursday\n",
              "24423 2021-09-16 21:05:00  2021-09-16 1900-01-01 21:05:00        3  Thursday\n",
              "24424 2021-09-16 21:02:00  2021-09-16 1900-01-01 21:02:00        3  Thursday\n",
              "24425 2021-09-16 20:57:00  2021-09-16 1900-01-01 20:57:00        3  Thursday\n",
              "24426 2021-09-16 20:36:00  2021-09-16 1900-01-01 20:36:00        3  Thursday\n",
              "\n",
              "[24427 rows x 5 columns]"
            ]
          },
          "metadata": {},
          "execution_count": 416
        }
      ]
    },
    {
      "cell_type": "code",
      "metadata": {
        "colab": {
          "base_uri": "https://localhost:8080/"
        },
        "id": "0-pA8O8PVEve",
        "outputId": "f404868c-d31d-4a1c-8d50-7107f7e6f391"
      },
      "source": [
        "# preview \n",
        "df['year make model'].head(20)"
      ],
      "id": "0-pA8O8PVEve",
      "execution_count": 417,
      "outputs": [
        {
          "output_type": "execute_result",
          "data": {
            "text/plain": [
              "0               2007 Lincoln navigator\n",
              "1                  2017 chevy spark ls\n",
              "2            2010 Nissan Xterra SE 4x4\n",
              "3     2005 Ford F150 Supercrew cab xlt\n",
              "4                      2003 GMC SIERRA\n",
              "5                2007 gmc yukon denali\n",
              "6                          2001 bmw m5\n",
              "7                      2003 gmc sierra\n",
              "8             1991 toyota land cruiser\n",
              "9                2011 2011 buick regal\n",
              "10                    2013 lincoln mkx\n",
              "11    2015 Ford f150 xlt 4x4 supercrew\n",
              "12            2010 toyota prius hybrid\n",
              "13                   1981 dodge pickup\n",
              "14                   2008 Cadillac DTS\n",
              "15           2008 Chevrolet Equinox LT\n",
              "16          2014 toyota sienna limited\n",
              "17        2004 ford mustang gt premium\n",
              "18                  2009 nissan xterra\n",
              "19                         2009 toyota\n",
              "Name: year make model, dtype: object"
            ]
          },
          "metadata": {},
          "execution_count": 417
        }
      ]
    },
    {
      "cell_type": "code",
      "metadata": {
        "colab": {
          "base_uri": "https://localhost:8080/"
        },
        "id": "-p6JGlvrVEyg",
        "outputId": "8bde4610-703a-4d93-e857-896ad4b6b274"
      },
      "source": [
        "#clean duplicate year in 'year make model'\n",
        "df['year_c make model'] = df['year make model'].str.replace(r'\\b(\\w+)(\\s+\\1)+\\b', r'\\1', regex=True)\n",
        "\n",
        "# preview \n",
        "df['year_c make model'].head(20)"
      ],
      "id": "-p6JGlvrVEyg",
      "execution_count": 418,
      "outputs": [
        {
          "output_type": "execute_result",
          "data": {
            "text/plain": [
              "0               2007 Lincoln navigator\n",
              "1                  2017 chevy spark ls\n",
              "2            2010 Nissan Xterra SE 4x4\n",
              "3     2005 Ford F150 Supercrew cab xlt\n",
              "4                      2003 GMC SIERRA\n",
              "5                2007 gmc yukon denali\n",
              "6                          2001 bmw m5\n",
              "7                      2003 gmc sierra\n",
              "8             1991 toyota land cruiser\n",
              "9                     2011 buick regal\n",
              "10                    2013 lincoln mkx\n",
              "11    2015 Ford f150 xlt 4x4 supercrew\n",
              "12            2010 toyota prius hybrid\n",
              "13                   1981 dodge pickup\n",
              "14                   2008 Cadillac DTS\n",
              "15           2008 Chevrolet Equinox LT\n",
              "16          2014 toyota sienna limited\n",
              "17        2004 ford mustang gt premium\n",
              "18                  2009 nissan xterra\n",
              "19                         2009 toyota\n",
              "Name: year_c make model, dtype: object"
            ]
          },
          "metadata": {},
          "execution_count": 418
        }
      ]
    },
    {
      "cell_type": "code",
      "metadata": {
        "colab": {
          "base_uri": "https://localhost:8080/",
          "height": 662
        },
        "id": "PvXX0HF7SygK",
        "outputId": "24926b4e-37f6-40b7-89e6-a35e85e34bb2"
      },
      "source": [
        "# create three columns, year, make & model by slicing 'year make model'\n",
        "# also format to upper case\n",
        "df['year'] = df['year_c make model'].str.split(' ').str[0].str.upper()\n",
        "df['make'] = df['year_c make model'].str.split(' ').str[1].str.upper()\n",
        "df['model'] = df['year_c make model'].str.split(' ').str[2].str.upper()\n",
        "\n",
        "# preview the new columns\n",
        "df[['year_c make model','year','make','model']].head(20)"
      ],
      "id": "PvXX0HF7SygK",
      "execution_count": 419,
      "outputs": [
        {
          "output_type": "execute_result",
          "data": {
            "text/html": [
              "<div>\n",
              "<style scoped>\n",
              "    .dataframe tbody tr th:only-of-type {\n",
              "        vertical-align: middle;\n",
              "    }\n",
              "\n",
              "    .dataframe tbody tr th {\n",
              "        vertical-align: top;\n",
              "    }\n",
              "\n",
              "    .dataframe thead th {\n",
              "        text-align: right;\n",
              "    }\n",
              "</style>\n",
              "<table border=\"1\" class=\"dataframe\">\n",
              "  <thead>\n",
              "    <tr style=\"text-align: right;\">\n",
              "      <th></th>\n",
              "      <th>year_c make model</th>\n",
              "      <th>year</th>\n",
              "      <th>make</th>\n",
              "      <th>model</th>\n",
              "    </tr>\n",
              "  </thead>\n",
              "  <tbody>\n",
              "    <tr>\n",
              "      <th>0</th>\n",
              "      <td>2007 Lincoln navigator</td>\n",
              "      <td>2007</td>\n",
              "      <td>LINCOLN</td>\n",
              "      <td>NAVIGATOR</td>\n",
              "    </tr>\n",
              "    <tr>\n",
              "      <th>1</th>\n",
              "      <td>2017 chevy spark ls</td>\n",
              "      <td>2017</td>\n",
              "      <td>CHEVY</td>\n",
              "      <td>SPARK</td>\n",
              "    </tr>\n",
              "    <tr>\n",
              "      <th>2</th>\n",
              "      <td>2010 Nissan Xterra SE 4x4</td>\n",
              "      <td>2010</td>\n",
              "      <td>NISSAN</td>\n",
              "      <td>XTERRA</td>\n",
              "    </tr>\n",
              "    <tr>\n",
              "      <th>3</th>\n",
              "      <td>2005 Ford F150 Supercrew cab xlt</td>\n",
              "      <td>2005</td>\n",
              "      <td>FORD</td>\n",
              "      <td>F150</td>\n",
              "    </tr>\n",
              "    <tr>\n",
              "      <th>4</th>\n",
              "      <td>2003 GMC SIERRA</td>\n",
              "      <td>2003</td>\n",
              "      <td>GMC</td>\n",
              "      <td>SIERRA</td>\n",
              "    </tr>\n",
              "    <tr>\n",
              "      <th>5</th>\n",
              "      <td>2007 gmc yukon denali</td>\n",
              "      <td>2007</td>\n",
              "      <td>GMC</td>\n",
              "      <td>YUKON</td>\n",
              "    </tr>\n",
              "    <tr>\n",
              "      <th>6</th>\n",
              "      <td>2001 bmw m5</td>\n",
              "      <td>2001</td>\n",
              "      <td>BMW</td>\n",
              "      <td>M5</td>\n",
              "    </tr>\n",
              "    <tr>\n",
              "      <th>7</th>\n",
              "      <td>2003 gmc sierra</td>\n",
              "      <td>2003</td>\n",
              "      <td>GMC</td>\n",
              "      <td>SIERRA</td>\n",
              "    </tr>\n",
              "    <tr>\n",
              "      <th>8</th>\n",
              "      <td>1991 toyota land cruiser</td>\n",
              "      <td>1991</td>\n",
              "      <td>TOYOTA</td>\n",
              "      <td>LAND</td>\n",
              "    </tr>\n",
              "    <tr>\n",
              "      <th>9</th>\n",
              "      <td>2011 buick regal</td>\n",
              "      <td>2011</td>\n",
              "      <td>BUICK</td>\n",
              "      <td>REGAL</td>\n",
              "    </tr>\n",
              "    <tr>\n",
              "      <th>10</th>\n",
              "      <td>2013 lincoln mkx</td>\n",
              "      <td>2013</td>\n",
              "      <td>LINCOLN</td>\n",
              "      <td>MKX</td>\n",
              "    </tr>\n",
              "    <tr>\n",
              "      <th>11</th>\n",
              "      <td>2015 Ford f150 xlt 4x4 supercrew</td>\n",
              "      <td>2015</td>\n",
              "      <td>FORD</td>\n",
              "      <td>F150</td>\n",
              "    </tr>\n",
              "    <tr>\n",
              "      <th>12</th>\n",
              "      <td>2010 toyota prius hybrid</td>\n",
              "      <td>2010</td>\n",
              "      <td>TOYOTA</td>\n",
              "      <td>PRIUS</td>\n",
              "    </tr>\n",
              "    <tr>\n",
              "      <th>13</th>\n",
              "      <td>1981 dodge pickup</td>\n",
              "      <td>1981</td>\n",
              "      <td>DODGE</td>\n",
              "      <td>PICKUP</td>\n",
              "    </tr>\n",
              "    <tr>\n",
              "      <th>14</th>\n",
              "      <td>2008 Cadillac DTS</td>\n",
              "      <td>2008</td>\n",
              "      <td>CADILLAC</td>\n",
              "      <td>DTS</td>\n",
              "    </tr>\n",
              "    <tr>\n",
              "      <th>15</th>\n",
              "      <td>2008 Chevrolet Equinox LT</td>\n",
              "      <td>2008</td>\n",
              "      <td>CHEVROLET</td>\n",
              "      <td>EQUINOX</td>\n",
              "    </tr>\n",
              "    <tr>\n",
              "      <th>16</th>\n",
              "      <td>2014 toyota sienna limited</td>\n",
              "      <td>2014</td>\n",
              "      <td>TOYOTA</td>\n",
              "      <td>SIENNA</td>\n",
              "    </tr>\n",
              "    <tr>\n",
              "      <th>17</th>\n",
              "      <td>2004 ford mustang gt premium</td>\n",
              "      <td>2004</td>\n",
              "      <td>FORD</td>\n",
              "      <td>MUSTANG</td>\n",
              "    </tr>\n",
              "    <tr>\n",
              "      <th>18</th>\n",
              "      <td>2009 nissan xterra</td>\n",
              "      <td>2009</td>\n",
              "      <td>NISSAN</td>\n",
              "      <td>XTERRA</td>\n",
              "    </tr>\n",
              "    <tr>\n",
              "      <th>19</th>\n",
              "      <td>2009 toyota</td>\n",
              "      <td>2009</td>\n",
              "      <td>TOYOTA</td>\n",
              "      <td>NaN</td>\n",
              "    </tr>\n",
              "  </tbody>\n",
              "</table>\n",
              "</div>"
            ],
            "text/plain": [
              "                   year_c make model  year       make      model\n",
              "0             2007 Lincoln navigator  2007    LINCOLN  NAVIGATOR\n",
              "1                2017 chevy spark ls  2017      CHEVY      SPARK\n",
              "2          2010 Nissan Xterra SE 4x4  2010     NISSAN     XTERRA\n",
              "3   2005 Ford F150 Supercrew cab xlt  2005       FORD       F150\n",
              "4                    2003 GMC SIERRA  2003        GMC     SIERRA\n",
              "5              2007 gmc yukon denali  2007        GMC      YUKON\n",
              "6                        2001 bmw m5  2001        BMW         M5\n",
              "7                    2003 gmc sierra  2003        GMC     SIERRA\n",
              "8           1991 toyota land cruiser  1991     TOYOTA       LAND\n",
              "9                   2011 buick regal  2011      BUICK      REGAL\n",
              "10                  2013 lincoln mkx  2013    LINCOLN        MKX\n",
              "11  2015 Ford f150 xlt 4x4 supercrew  2015       FORD       F150\n",
              "12          2010 toyota prius hybrid  2010     TOYOTA      PRIUS\n",
              "13                 1981 dodge pickup  1981      DODGE     PICKUP\n",
              "14                 2008 Cadillac DTS  2008   CADILLAC        DTS\n",
              "15         2008 Chevrolet Equinox LT  2008  CHEVROLET    EQUINOX\n",
              "16        2014 toyota sienna limited  2014     TOYOTA     SIENNA\n",
              "17      2004 ford mustang gt premium  2004       FORD    MUSTANG\n",
              "18                2009 nissan xterra  2009     NISSAN     XTERRA\n",
              "19                       2009 toyota  2009     TOYOTA        NaN"
            ]
          },
          "metadata": {},
          "execution_count": 419
        }
      ]
    },
    {
      "cell_type": "code",
      "metadata": {
        "colab": {
          "base_uri": "https://localhost:8080/",
          "height": 308
        },
        "id": "oIx6Ith7HuRQ",
        "outputId": "bee05372-9d28-46b5-d2ba-676cd57b8ca1"
      },
      "source": [
        "fig, ax = plt.subplots(1,1,figsize=(20,4))\n",
        "histogram = plt.hist(df['year'].sort_values(),bins = 25, rwidth=0.8,facecolor='blue', alpha=0.5)\n",
        "histogram = plt.xticks(rotation = 90)"
      ],
      "id": "oIx6Ith7HuRQ",
      "execution_count": 420,
      "outputs": [
        {
          "output_type": "display_data",
          "data": {
            "image/png": "[encoded data removed]",
            "text/plain": [
              "<Figure size 1440x288 with 1 Axes>"
            ]
          },
          "metadata": {
            "needs_background": "light"
          }
        }
      ]
    },
    {
      "cell_type": "code",
      "metadata": {
        "colab": {
          "base_uri": "https://localhost:8080/",
          "height": 412
        },
        "id": "0do33ZeiDFZB",
        "outputId": "f6125456-220c-4ec4-93b5-54a462cc4307"
      },
      "source": [
        "df['length'] = df.year.str.len()\n",
        "print('\\nunique year lengths --> ', df['length'].unique())\n",
        "\n",
        "df[df['length']>4]"
      ],
      "id": "0do33ZeiDFZB",
      "execution_count": 421,
      "outputs": [
        {
          "output_type": "stream",
          "name": "stdout",
          "text": [
            "unique year lengths -->  [4 5 9]\n"
          ]
        },
        {
          "output_type": "execute_result",
          "data": {
            "text/html": [
              "<div>\n",
              "<style scoped>\n",
              "    .dataframe tbody tr th:only-of-type {\n",
              "        vertical-align: middle;\n",
              "    }\n",
              "\n",
              "    .dataframe tbody tr th {\n",
              "        vertical-align: top;\n",
              "    }\n",
              "\n",
              "    .dataframe thead th {\n",
              "        text-align: right;\n",
              "    }\n",
              "</style>\n",
              "<table border=\"1\" class=\"dataframe\">\n",
              "  <thead>\n",
              "    <tr style=\"text-align: right;\">\n",
              "      <th></th>\n",
              "      <th>VIN</th>\n",
              "      <th>city</th>\n",
              "      <th>condition</th>\n",
              "      <th>cylinders</th>\n",
              "      <th>date time</th>\n",
              "      <th>drive</th>\n",
              "      <th>fuel</th>\n",
              "      <th>lat</th>\n",
              "      <th>long</th>\n",
              "      <th>odometer</th>\n",
              "      <th>pID</th>\n",
              "      <th>paint color</th>\n",
              "      <th>post_body</th>\n",
              "      <th>price</th>\n",
              "      <th>size</th>\n",
              "      <th>title status</th>\n",
              "      <th>transmission</th>\n",
              "      <th>type</th>\n",
              "      <th>year make model</th>\n",
              "      <th>date</th>\n",
              "      <th>time</th>\n",
              "      <th>weekday</th>\n",
              "      <th>dayOfWeek</th>\n",
              "      <th>year_c make model</th>\n",
              "      <th>year</th>\n",
              "      <th>make</th>\n",
              "      <th>model</th>\n",
              "      <th>length</th>\n",
              "    </tr>\n",
              "  </thead>\n",
              "  <tbody>\n",
              "    <tr>\n",
              "      <th>2699</th>\n",
              "      <td>NaN</td>\n",
              "      <td>chicago</td>\n",
              "      <td>NaN</td>\n",
              "      <td>NaN</td>\n",
              "      <td>2021-09-19 11:36:00</td>\n",
              "      <td>NaN</td>\n",
              "      <td>gas</td>\n",
              "      <td>41.76640</td>\n",
              "      <td>-88.34460</td>\n",
              "      <td>189000</td>\n",
              "      <td>7382525554.00000</td>\n",
              "      <td>NaN</td>\n",
              "      <td>selling original shape Firm price All question...</td>\n",
              "      <td>900</td>\n",
              "      <td>NaN</td>\n",
              "      <td>clean</td>\n",
              "      <td>automatic</td>\n",
              "      <td>coupe</td>\n",
              "      <td>2006 2006. Element</td>\n",
              "      <td>2021-09-19</td>\n",
              "      <td>1900-01-01 11:36:00</td>\n",
              "      <td>6</td>\n",
              "      <td>Sunday</td>\n",
              "      <td>2006. Element</td>\n",
              "      <td>2006.</td>\n",
              "      <td>ELEMENT</td>\n",
              "      <td>NaN</td>\n",
              "      <td>5</td>\n",
              "    </tr>\n",
              "    <tr>\n",
              "      <th>15754</th>\n",
              "      <td>NaN</td>\n",
              "      <td>washingtondc</td>\n",
              "      <td>fair</td>\n",
              "      <td>8 cylinders</td>\n",
              "      <td>2021-09-12 17:10:00</td>\n",
              "      <td>4wd</td>\n",
              "      <td>diesel</td>\n",
              "      <td>39.03730</td>\n",
              "      <td>-77.48050</td>\n",
              "      <td>188000</td>\n",
              "      <td>7379395945.00000</td>\n",
              "      <td>white</td>\n",
              "      <td>NEW LOWER PRICE OFFSEASON PRICED</td>\n",
              "      <td>4300</td>\n",
              "      <td>NaN</td>\n",
              "      <td>clean</td>\n",
              "      <td>automatic</td>\n",
              "      <td>pickup</td>\n",
              "      <td>1998 1998-3500 GMC SIERRA DIESEL</td>\n",
              "      <td>2021-09-12</td>\n",
              "      <td>1900-01-01 17:10:00</td>\n",
              "      <td>6</td>\n",
              "      <td>Sunday</td>\n",
              "      <td>1998-3500 GMC SIERRA DIESEL</td>\n",
              "      <td>1998-3500</td>\n",
              "      <td>GMC</td>\n",
              "      <td>SIERRA</td>\n",
              "      <td>9</td>\n",
              "    </tr>\n",
              "    <tr>\n",
              "      <th>20560</th>\n",
              "      <td>NaN</td>\n",
              "      <td>atlanta</td>\n",
              "      <td>fair</td>\n",
              "      <td>NaN</td>\n",
              "      <td>2021-09-13 14:58:00</td>\n",
              "      <td>fwd</td>\n",
              "      <td>gas</td>\n",
              "      <td>33.84820</td>\n",
              "      <td>-84.35820</td>\n",
              "      <td>232002</td>\n",
              "      <td>7379803202.00000</td>\n",
              "      <td>silver</td>\n",
              "      <td>Im selling 3 vehicles for the price of one</td>\n",
              "      <td>3900</td>\n",
              "      <td>NaN</td>\n",
              "      <td>salvage</td>\n",
              "      <td>automatic</td>\n",
              "      <td>NaN</td>\n",
              "      <td>2000 2000-2003</td>\n",
              "      <td>2021-09-13</td>\n",
              "      <td>1900-01-01 14:58:00</td>\n",
              "      <td>0</td>\n",
              "      <td>Monday</td>\n",
              "      <td>2000-2003</td>\n",
              "      <td>2000-2003</td>\n",
              "      <td>NaN</td>\n",
              "      <td>NaN</td>\n",
              "      <td>9</td>\n",
              "    </tr>\n",
              "  </tbody>\n",
              "</table>\n",
              "</div>"
            ],
            "text/plain": [
              "       VIN          city condition  ...     make   model length\n",
              "2699   NaN       chicago       NaN  ...  ELEMENT     NaN      5\n",
              "15754  NaN  washingtondc      fair  ...      GMC  SIERRA      9\n",
              "20560  NaN       atlanta      fair  ...      NaN     NaN      9\n",
              "\n",
              "[3 rows x 28 columns]"
            ]
          },
          "metadata": {},
          "execution_count": 421
        }
      ]
    },
    {
      "cell_type": "code",
      "metadata": {
        "id": "oMfK6EclDwOv"
      },
      "source": [
        "df = df[df.length == 4]\n",
        "df.drop(['length'],axis=1, inplace=True)"
      ],
      "id": "oMfK6EclDwOv",
      "execution_count": 422,
      "outputs": []
    },
    {
      "cell_type": "code",
      "metadata": {
        "colab": {
          "base_uri": "https://localhost:8080/",
          "height": 281
        },
        "id": "E_aKHgBfA26M",
        "outputId": "3a41e33a-a7a4-4580-bffd-279824a080e1"
      },
      "source": [
        "fig, ax = plt.subplots(1,1,figsize=(20,4))\n",
        "histogram = plt.hist(df['year'].sort_values(),bins = 25, rwidth=0.8,facecolor='blue', alpha=0.5)\n",
        "histogram = plt.xticks(rotation = 90)"
      ],
      "id": "E_aKHgBfA26M",
      "execution_count": 423,
      "outputs": [
        {
          "output_type": "display_data",
          "data": {
            "image/png": "[encoded data removed]",
            "text/plain": [
              "<Figure size 1440x288 with 1 Axes>"
            ]
          },
          "metadata": {
            "needs_background": "light"
          }
        }
      ]
    },
    {
      "cell_type": "code",
      "metadata": {
        "colab": {
          "base_uri": "https://localhost:8080/"
        },
        "id": "Ul1a8wpc1_4c",
        "outputId": "a7077e97-4e79-4b31-9b70-0cb7639d364e"
      },
      "source": [
        "# then preview columns data types\n",
        "print(df.dtypes)"
      ],
      "id": "Ul1a8wpc1_4c",
      "execution_count": 424,
      "outputs": [
        {
          "output_type": "stream",
          "name": "stdout",
          "text": [
            "VIN                          object\n",
            "city                         object\n",
            "condition                    object\n",
            "cylinders                    object\n",
            "date time            datetime64[ns]\n",
            "drive                        object\n",
            "fuel                         object\n",
            "lat                         float64\n",
            "long                        float64\n",
            "odometer                      int64\n",
            "pID                         float64\n",
            "paint color                  object\n",
            "post_body                    object\n",
            "price                         int64\n",
            "size                         object\n",
            "title status                 object\n",
            "transmission                 object\n",
            "type                         object\n",
            "year make model              object\n",
            "date                         object\n",
            "time                 datetime64[ns]\n",
            "weekday                       int64\n",
            "dayOfWeek                    object\n",
            "year_c make model            object\n",
            "year                         object\n",
            "make                         object\n",
            "model                        object\n",
            "dtype: object\n"
          ]
        }
      ]
    },
    {
      "cell_type": "code",
      "metadata": {
        "colab": {
          "base_uri": "https://localhost:8080/"
        },
        "id": "MLl4XOG0NW9X",
        "outputId": "ae2d2846-5509-4e9b-ba0f-eaec4522e0ed"
      },
      "source": [
        "# A string variable consisting of only a few different values. Converting such a string variable to a categorical variable will save some memory\n",
        "df['city'] = df['city'].astype('category')\n",
        "df['condition'] = df['condition'].astype('category')\n",
        "df['cylinders'] = df['cylinders'].astype('category')\n",
        "df['drive'] = df['drive'].astype('category')\n",
        "df['fuel'] = df['fuel'].astype('category')\n",
        "df['paint color'] = df['paint color'].astype('category')\n",
        "df['size'] = df['size'].astype('category')\n",
        "df['title status'] = df['title status'].astype('category')\n",
        "df['transmission'] = df['transmission'].astype('category')\n",
        "df['type'] = df['type'].astype('category')\n",
        "df['dayOfWeek'] = df['dayOfWeek'].astype('category') \n",
        "df['make'] = df['make'].astype('category') \n",
        "\n",
        "df['model'] = df['model'].astype('str') \n",
        "\n",
        "df.dtypes             "
      ],
      "id": "MLl4XOG0NW9X",
      "execution_count": 425,
      "outputs": [
        {
          "output_type": "execute_result",
          "data": {
            "text/plain": [
              "VIN                          object\n",
              "city                       category\n",
              "condition                  category\n",
              "cylinders                  category\n",
              "date time            datetime64[ns]\n",
              "drive                      category\n",
              "fuel                       category\n",
              "lat                         float64\n",
              "long                        float64\n",
              "odometer                      int64\n",
              "pID                         float64\n",
              "paint color                category\n",
              "post_body                    object\n",
              "price                         int64\n",
              "size                       category\n",
              "title status               category\n",
              "transmission               category\n",
              "type                       category\n",
              "year make model              object\n",
              "date                         object\n",
              "time                 datetime64[ns]\n",
              "weekday                       int64\n",
              "dayOfWeek                  category\n",
              "year_c make model            object\n",
              "year                         object\n",
              "make                       category\n",
              "model                        object\n",
              "dtype: object"
            ]
          },
          "metadata": {},
          "execution_count": 425
        }
      ]
    },
    {
      "cell_type": "code",
      "metadata": {
        "colab": {
          "base_uri": "https://localhost:8080/"
        },
        "id": "T03QR_R22AEi",
        "outputId": "12dcb89e-5fef-4090-cf94-5fa0c070d702"
      },
      "source": [
        "# view the how many columns have null values and % of nulls\n",
        "print(pd.concat([df.isnull().sum().sort_values(), \n",
        "                df.isnull().sum().sort_values()/len(df)*100],\n",
        "                axis=1, \n",
        "                keys=['null values', 'null values %']))"
      ],
      "id": "T03QR_R22AEi",
      "execution_count": 426,
      "outputs": [
        {
          "output_type": "stream",
          "name": "stdout",
          "text": [
            "                   null values  null values %\n",
            "price                        0        0.00000\n",
            "year                         0        0.00000\n",
            "year_c make model            0        0.00000\n",
            "dayOfWeek                    0        0.00000\n",
            "weekday                      0        0.00000\n",
            "time                         0        0.00000\n",
            "date                         0        0.00000\n",
            "year make model              0        0.00000\n",
            "transmission                 0        0.00000\n",
            "title status                 0        0.00000\n",
            "model                        0        0.00000\n",
            "odometer                     0        0.00000\n",
            "fuel                         0        0.00000\n",
            "date time                    0        0.00000\n",
            "city                         0        0.00000\n",
            "long                        34        0.13921\n",
            "lat                         34        0.13921\n",
            "pID                         34        0.13921\n",
            "make                        51        0.20881\n",
            "post_body                  209        0.85572\n",
            "condition                 4275       17.50328\n",
            "cylinders                 6065       24.83213\n",
            "paint color               6931       28.37783\n",
            "drive                     8126       33.27055\n",
            "type                      8355       34.20816\n",
            "size                     12345       50.54455\n",
            "VIN                      20845       85.34638\n"
          ]
        }
      ]
    },
    {
      "cell_type": "code",
      "metadata": {
        "colab": {
          "base_uri": "https://localhost:8080/",
          "height": 294
        },
        "id": "NzTqIgKm2ABg",
        "outputId": "ccda4c91-f64c-4780-d0d0-644c8824ce84"
      },
      "source": [
        "# Get the basic descriptive and statistics for each numeric column\n",
        "df.describe()"
      ],
      "id": "NzTqIgKm2ABg",
      "execution_count": 427,
      "outputs": [
        {
          "output_type": "execute_result",
          "data": {
            "text/html": [
              "<div>\n",
              "<style scoped>\n",
              "    .dataframe tbody tr th:only-of-type {\n",
              "        vertical-align: middle;\n",
              "    }\n",
              "\n",
              "    .dataframe tbody tr th {\n",
              "        vertical-align: top;\n",
              "    }\n",
              "\n",
              "    .dataframe thead th {\n",
              "        text-align: right;\n",
              "    }\n",
              "</style>\n",
              "<table border=\"1\" class=\"dataframe\">\n",
              "  <thead>\n",
              "    <tr style=\"text-align: right;\">\n",
              "      <th></th>\n",
              "      <th>lat</th>\n",
              "      <th>long</th>\n",
              "      <th>odometer</th>\n",
              "      <th>pID</th>\n",
              "      <th>price</th>\n",
              "      <th>weekday</th>\n",
              "    </tr>\n",
              "  </thead>\n",
              "  <tbody>\n",
              "    <tr>\n",
              "      <th>count</th>\n",
              "      <td>24390.00000</td>\n",
              "      <td>24390.00000</td>\n",
              "      <td>24424.00000</td>\n",
              "      <td>24390.00000</td>\n",
              "      <td>24424.00000</td>\n",
              "      <td>24424.00000</td>\n",
              "    </tr>\n",
              "    <tr>\n",
              "      <th>mean</th>\n",
              "      <td>36.41096</td>\n",
              "      <td>-94.20389</td>\n",
              "      <td>139590.39551</td>\n",
              "      <td>7382001887.12542</td>\n",
              "      <td>24236.20193</td>\n",
              "      <td>2.86612</td>\n",
              "    </tr>\n",
              "    <tr>\n",
              "      <th>std</th>\n",
              "      <td>5.73315</td>\n",
              "      <td>17.71734</td>\n",
              "      <td>325329.64360</td>\n",
              "      <td>3120409.98254</td>\n",
              "      <td>1068544.58440</td>\n",
              "      <td>1.78870</td>\n",
              "    </tr>\n",
              "    <tr>\n",
              "      <th>min</th>\n",
              "      <td>-34.65668</td>\n",
              "      <td>-157.90693</td>\n",
              "      <td>0.00000</td>\n",
              "      <td>7370759716.00000</td>\n",
              "      <td>1.00000</td>\n",
              "      <td>0.00000</td>\n",
              "    </tr>\n",
              "    <tr>\n",
              "      <th>25%</th>\n",
              "      <td>33.00433</td>\n",
              "      <td>-112.06020</td>\n",
              "      <td>74200.00000</td>\n",
              "      <td>7380692815.75000</td>\n",
              "      <td>4500.00000</td>\n",
              "      <td>1.00000</td>\n",
              "    </tr>\n",
              "    <tr>\n",
              "      <th>50%</th>\n",
              "      <td>36.07615</td>\n",
              "      <td>-88.19520</td>\n",
              "      <td>120148.00000</td>\n",
              "      <td>7383031177.00000</td>\n",
              "      <td>8000.00000</td>\n",
              "      <td>3.00000</td>\n",
              "    </tr>\n",
              "    <tr>\n",
              "      <th>75%</th>\n",
              "      <td>40.72552</td>\n",
              "      <td>-77.48050</td>\n",
              "      <td>166000.00000</td>\n",
              "      <td>7384306209.75000</td>\n",
              "      <td>15700.00000</td>\n",
              "      <td>4.00000</td>\n",
              "    </tr>\n",
              "    <tr>\n",
              "      <th>max</th>\n",
              "      <td>84.80801</td>\n",
              "      <td>35.51106</td>\n",
              "      <td>10000000.00000</td>\n",
              "      <td>7385200851.00000</td>\n",
              "      <td>123456789.00000</td>\n",
              "      <td>6.00000</td>\n",
              "    </tr>\n",
              "  </tbody>\n",
              "</table>\n",
              "</div>"
            ],
            "text/plain": [
              "              lat        long  ...           price     weekday\n",
              "count 24390.00000 24390.00000  ...     24424.00000 24424.00000\n",
              "mean     36.41096   -94.20389  ...     24236.20193     2.86612\n",
              "std       5.73315    17.71734  ...   1068544.58440     1.78870\n",
              "min     -34.65668  -157.90693  ...         1.00000     0.00000\n",
              "25%      33.00433  -112.06020  ...      4500.00000     1.00000\n",
              "50%      36.07615   -88.19520  ...      8000.00000     3.00000\n",
              "75%      40.72552   -77.48050  ...     15700.00000     4.00000\n",
              "max      84.80801    35.51106  ... 123456789.00000     6.00000\n",
              "\n",
              "[8 rows x 6 columns]"
            ]
          },
          "metadata": {},
          "execution_count": 427
        }
      ]
    },
    {
      "cell_type": "code",
      "metadata": {
        "colab": {
          "base_uri": "https://localhost:8080/",
          "height": 277
        },
        "id": "qJdFje8fkwSi",
        "outputId": "6f5000e8-4bf0-464a-ef21-8f902a20e62c"
      },
      "source": [
        "fig, ax = plt.subplots(1,1,figsize=(10,4))\n",
        "boxplot = plt.boxplot(df['price'], showfliers=True, vert=False)"
      ],
      "id": "qJdFje8fkwSi",
      "execution_count": 428,
      "outputs": [
        {
          "output_type": "display_data",
          "data": {
            "image/png": "[encoded data removed]",
            "text/plain": [
              "<Figure size 720x288 with 1 Axes>"
            ]
          },
          "metadata": {
            "needs_background": "light"
          }
        }
      ]
    },
    {
      "cell_type": "code",
      "metadata": {
        "colab": {
          "base_uri": "https://localhost:8080/",
          "height": 295
        },
        "id": "o-64B-hL4UyD",
        "outputId": "f1c72859-ec85-4e1e-9b31-2b7c6ecc0985"
      },
      "source": [
        "df.price.hist(bins=50,figsize=(10, 4),color='#FF3399')"
      ],
      "id": "o-64B-hL4UyD",
      "execution_count": 429,
      "outputs": [
        {
          "output_type": "execute_result",
          "data": {
            "text/plain": [
              "<matplotlib.axes._subplots.AxesSubplot at 0x7f2d064e1ed0>"
            ]
          },
          "metadata": {},
          "execution_count": 429
        },
        {
          "output_type": "display_data",
          "data": {
            "image/png": "[encoded data removed]",
            "text/plain": [
              "<Figure size 720x288 with 1 Axes>"
            ]
          },
          "metadata": {
            "needs_background": "light"
          }
        }
      ]
    },
    {
      "cell_type": "code",
      "metadata": {
        "colab": {
          "base_uri": "https://localhost:8080/",
          "height": 316
        },
        "id": "ndy_YucakwPy",
        "outputId": "05392571-93d8-438f-cc71-9449b2d51d68"
      },
      "source": [
        "q_low = df[\"price\"].quantile(0.01)\n",
        "q_hi  = df[\"price\"].quantile(0.99)\n",
        "df_filtered = df[(df[\"price\"] < q_hi) & (df[\"price\"] > q_low)]\n",
        "df_filtered.hist(column='price',bins=50,figsize=(10, 4),color='#3399ff')"
      ],
      "id": "ndy_YucakwPy",
      "execution_count": 430,
      "outputs": [
        {
          "output_type": "execute_result",
          "data": {
            "text/plain": [
              "array([[<matplotlib.axes._subplots.AxesSubplot object at 0x7f2d0655e410>]],\n",
              "      dtype=object)"
            ]
          },
          "metadata": {},
          "execution_count": 430
        },
        {
          "output_type": "display_data",
          "data": {
            "image/png": "[encoded data removed]",
            "text/plain": [
              "<Figure size 720x288 with 1 Axes>"
            ]
          },
          "metadata": {
            "needs_background": "light"
          }
        }
      ]
    },
    {
      "cell_type": "code",
      "metadata": {
        "colab": {
          "base_uri": "https://localhost:8080/",
          "height": 295
        },
        "id": "EqlDqQBquSY8",
        "outputId": "9d397666-8717-4b08-cd26-f9c692d81385"
      },
      "source": [
        "df_filtered.odometer.hist(bins=50,figsize=(10, 4),color='#FF3399')"
      ],
      "id": "EqlDqQBquSY8",
      "execution_count": 431,
      "outputs": [
        {
          "output_type": "execute_result",
          "data": {
            "text/plain": [
              "<matplotlib.axes._subplots.AxesSubplot at 0x7f2d06595a90>"
            ]
          },
          "metadata": {},
          "execution_count": 431
        },
        {
          "output_type": "display_data",
          "data": {
            "image/png": "[encoded data removed]",
            "text/plain": [
              "<Figure size 720x288 with 1 Axes>"
            ]
          },
          "metadata": {
            "needs_background": "light"
          }
        }
      ]
    },
    {
      "cell_type": "code",
      "metadata": {
        "colab": {
          "base_uri": "https://localhost:8080/",
          "height": 316
        },
        "id": "I2Sg5pYzuSbs",
        "outputId": "29295319-254c-40c5-954a-5c30b2aa71f8"
      },
      "source": [
        "q_low = df_filtered[\"odometer\"].quantile(0.01)\n",
        "q_hi  = df_filtered[\"odometer\"].quantile(0.99)\n",
        "df_filtered = df_filtered[(df_filtered[\"odometer\"] < q_hi) & (df_filtered[\"odometer\"] > q_low)]\n",
        "df_filtered.hist(column='odometer',bins=50,figsize=(10, 4),color='#3399ff')"
      ],
      "id": "I2Sg5pYzuSbs",
      "execution_count": 432,
      "outputs": [
        {
          "output_type": "execute_result",
          "data": {
            "text/plain": [
              "array([[<matplotlib.axes._subplots.AxesSubplot object at 0x7f2d0659c350>]],\n",
              "      dtype=object)"
            ]
          },
          "metadata": {},
          "execution_count": 432
        },
        {
          "output_type": "display_data",
          "data": {
            "image/png": "[encoded data removed]",
            "text/plain": [
              "<Figure size 720x288 with 1 Axes>"
            ]
          },
          "metadata": {
            "needs_background": "light"
          }
        }
      ]
    },
    {
      "cell_type": "code",
      "metadata": {
        "colab": {
          "base_uri": "https://localhost:8080/"
        },
        "id": "WJGDVwjtuSer",
        "outputId": "c6a433f7-3bc1-44db-dfeb-66bd365b5770"
      },
      "source": [
        "df_filtered.shape"
      ],
      "id": "WJGDVwjtuSer",
      "execution_count": 433,
      "outputs": [
        {
          "output_type": "execute_result",
          "data": {
            "text/plain": [
              "(23442, 27)"
            ]
          },
          "metadata": {},
          "execution_count": 433
        }
      ]
    },
    {
      "cell_type": "code",
      "metadata": {
        "colab": {
          "base_uri": "https://localhost:8080/",
          "height": 324
        },
        "id": "65JAbpC68JYS",
        "outputId": "f3c88502-73c8-4804-8a66-9d46f3a0385f"
      },
      "source": [
        "pd.concat([df[['price','odometer']].describe(), \n",
        "                df_filtered[['price','odometer']].describe()],\n",
        "                axis=1, \n",
        "                keys=['with outliers', 'outliers removed'])"
      ],
      "id": "65JAbpC68JYS",
      "execution_count": 434,
      "outputs": [
        {
          "output_type": "execute_result",
          "data": {
            "text/html": [
              "<div>\n",
              "<style scoped>\n",
              "    .dataframe tbody tr th:only-of-type {\n",
              "        vertical-align: middle;\n",
              "    }\n",
              "\n",
              "    .dataframe tbody tr th {\n",
              "        vertical-align: top;\n",
              "    }\n",
              "\n",
              "    .dataframe thead tr th {\n",
              "        text-align: left;\n",
              "    }\n",
              "</style>\n",
              "<table border=\"1\" class=\"dataframe\">\n",
              "  <thead>\n",
              "    <tr>\n",
              "      <th></th>\n",
              "      <th colspan=\"2\" halign=\"left\">with outliers</th>\n",
              "      <th colspan=\"2\" halign=\"left\">outliers removed</th>\n",
              "    </tr>\n",
              "    <tr>\n",
              "      <th></th>\n",
              "      <th>price</th>\n",
              "      <th>odometer</th>\n",
              "      <th>price</th>\n",
              "      <th>odometer</th>\n",
              "    </tr>\n",
              "  </thead>\n",
              "  <tbody>\n",
              "    <tr>\n",
              "      <th>count</th>\n",
              "      <td>24424.00000</td>\n",
              "      <td>24424.00000</td>\n",
              "      <td>23442.00000</td>\n",
              "      <td>23442.00000</td>\n",
              "    </tr>\n",
              "    <tr>\n",
              "      <th>mean</th>\n",
              "      <td>24236.20193</td>\n",
              "      <td>139590.39551</td>\n",
              "      <td>12388.76295</td>\n",
              "      <td>124138.29929</td>\n",
              "    </tr>\n",
              "    <tr>\n",
              "      <th>std</th>\n",
              "      <td>1068544.58440</td>\n",
              "      <td>325329.64360</td>\n",
              "      <td>12115.90658</td>\n",
              "      <td>69013.32927</td>\n",
              "    </tr>\n",
              "    <tr>\n",
              "      <th>min</th>\n",
              "      <td>1.00000</td>\n",
              "      <td>0.00000</td>\n",
              "      <td>225.00000</td>\n",
              "      <td>102.00000</td>\n",
              "    </tr>\n",
              "    <tr>\n",
              "      <th>25%</th>\n",
              "      <td>4500.00000</td>\n",
              "      <td>74200.00000</td>\n",
              "      <td>4595.00000</td>\n",
              "      <td>77000.00000</td>\n",
              "    </tr>\n",
              "    <tr>\n",
              "      <th>50%</th>\n",
              "      <td>8000.00000</td>\n",
              "      <td>120148.00000</td>\n",
              "      <td>8000.00000</td>\n",
              "      <td>121925.50000</td>\n",
              "    </tr>\n",
              "    <tr>\n",
              "      <th>75%</th>\n",
              "      <td>15700.00000</td>\n",
              "      <td>166000.00000</td>\n",
              "      <td>15000.00000</td>\n",
              "      <td>165192.75000</td>\n",
              "    </tr>\n",
              "    <tr>\n",
              "      <th>max</th>\n",
              "      <td>123456789.00000</td>\n",
              "      <td>10000000.00000</td>\n",
              "      <td>76000.00000</td>\n",
              "      <td>556650.00000</td>\n",
              "    </tr>\n",
              "  </tbody>\n",
              "</table>\n",
              "</div>"
            ],
            "text/plain": [
              "        with outliers                outliers removed             \n",
              "                price       odometer            price     odometer\n",
              "count     24424.00000    24424.00000      23442.00000  23442.00000\n",
              "mean      24236.20193   139590.39551      12388.76295 124138.29929\n",
              "std     1068544.58440   325329.64360      12115.90658  69013.32927\n",
              "min           1.00000        0.00000        225.00000    102.00000\n",
              "25%        4500.00000    74200.00000       4595.00000  77000.00000\n",
              "50%        8000.00000   120148.00000       8000.00000 121925.50000\n",
              "75%       15700.00000   166000.00000      15000.00000 165192.75000\n",
              "max   123456789.00000 10000000.00000      76000.00000 556650.00000"
            ]
          },
          "metadata": {},
          "execution_count": 434
        }
      ]
    },
    {
      "cell_type": "code",
      "metadata": {
        "colab": {
          "base_uri": "https://localhost:8080/",
          "height": 294
        },
        "id": "I2WMnlF28Je2",
        "outputId": "b9beca36-c5d9-43e4-b99b-4f3883373924"
      },
      "source": [
        "df.describe()"
      ],
      "id": "I2WMnlF28Je2",
      "execution_count": 437,
      "outputs": [
        {
          "output_type": "execute_result",
          "data": {
            "text/html": [
              "<div>\n",
              "<style scoped>\n",
              "    .dataframe tbody tr th:only-of-type {\n",
              "        vertical-align: middle;\n",
              "    }\n",
              "\n",
              "    .dataframe tbody tr th {\n",
              "        vertical-align: top;\n",
              "    }\n",
              "\n",
              "    .dataframe thead th {\n",
              "        text-align: right;\n",
              "    }\n",
              "</style>\n",
              "<table border=\"1\" class=\"dataframe\">\n",
              "  <thead>\n",
              "    <tr style=\"text-align: right;\">\n",
              "      <th></th>\n",
              "      <th>lat</th>\n",
              "      <th>long</th>\n",
              "      <th>odometer</th>\n",
              "      <th>pID</th>\n",
              "      <th>price</th>\n",
              "      <th>weekday</th>\n",
              "    </tr>\n",
              "  </thead>\n",
              "  <tbody>\n",
              "    <tr>\n",
              "      <th>count</th>\n",
              "      <td>24390.00000</td>\n",
              "      <td>24390.00000</td>\n",
              "      <td>24424.00000</td>\n",
              "      <td>24390.00000</td>\n",
              "      <td>24424.00000</td>\n",
              "      <td>24424.00000</td>\n",
              "    </tr>\n",
              "    <tr>\n",
              "      <th>mean</th>\n",
              "      <td>36.41096</td>\n",
              "      <td>-94.20389</td>\n",
              "      <td>139590.39551</td>\n",
              "      <td>7382001887.12542</td>\n",
              "      <td>24236.20193</td>\n",
              "      <td>2.86612</td>\n",
              "    </tr>\n",
              "    <tr>\n",
              "      <th>std</th>\n",
              "      <td>5.73315</td>\n",
              "      <td>17.71734</td>\n",
              "      <td>325329.64360</td>\n",
              "      <td>3120409.98254</td>\n",
              "      <td>1068544.58440</td>\n",
              "      <td>1.78870</td>\n",
              "    </tr>\n",
              "    <tr>\n",
              "      <th>min</th>\n",
              "      <td>-34.65668</td>\n",
              "      <td>-157.90693</td>\n",
              "      <td>0.00000</td>\n",
              "      <td>7370759716.00000</td>\n",
              "      <td>1.00000</td>\n",
              "      <td>0.00000</td>\n",
              "    </tr>\n",
              "    <tr>\n",
              "      <th>25%</th>\n",
              "      <td>33.00433</td>\n",
              "      <td>-112.06020</td>\n",
              "      <td>74200.00000</td>\n",
              "      <td>7380692815.75000</td>\n",
              "      <td>4500.00000</td>\n",
              "      <td>1.00000</td>\n",
              "    </tr>\n",
              "    <tr>\n",
              "      <th>50%</th>\n",
              "      <td>36.07615</td>\n",
              "      <td>-88.19520</td>\n",
              "      <td>120148.00000</td>\n",
              "      <td>7383031177.00000</td>\n",
              "      <td>8000.00000</td>\n",
              "      <td>3.00000</td>\n",
              "    </tr>\n",
              "    <tr>\n",
              "      <th>75%</th>\n",
              "      <td>40.72552</td>\n",
              "      <td>-77.48050</td>\n",
              "      <td>166000.00000</td>\n",
              "      <td>7384306209.75000</td>\n",
              "      <td>15700.00000</td>\n",
              "      <td>4.00000</td>\n",
              "    </tr>\n",
              "    <tr>\n",
              "      <th>max</th>\n",
              "      <td>84.80801</td>\n",
              "      <td>35.51106</td>\n",
              "      <td>10000000.00000</td>\n",
              "      <td>7385200851.00000</td>\n",
              "      <td>123456789.00000</td>\n",
              "      <td>6.00000</td>\n",
              "    </tr>\n",
              "  </tbody>\n",
              "</table>\n",
              "</div>"
            ],
            "text/plain": [
              "              lat        long  ...           price     weekday\n",
              "count 24390.00000 24390.00000  ...     24424.00000 24424.00000\n",
              "mean     36.41096   -94.20389  ...     24236.20193     2.86612\n",
              "std       5.73315    17.71734  ...   1068544.58440     1.78870\n",
              "min     -34.65668  -157.90693  ...         1.00000     0.00000\n",
              "25%      33.00433  -112.06020  ...      4500.00000     1.00000\n",
              "50%      36.07615   -88.19520  ...      8000.00000     3.00000\n",
              "75%      40.72552   -77.48050  ...     15700.00000     4.00000\n",
              "max      84.80801    35.51106  ... 123456789.00000     6.00000\n",
              "\n",
              "[8 rows x 6 columns]"
            ]
          },
          "metadata": {},
          "execution_count": 437
        }
      ]
    },
    {
      "cell_type": "code",
      "metadata": {
        "colab": {
          "base_uri": "https://localhost:8080/",
          "height": 171
        },
        "id": "WFKJLv_2UCgW",
        "outputId": "eb0b38a1-9889-49f7-d8f4-cbd9b53f39ee"
      },
      "source": [
        "df_filtered.describe(include=[object]) "
      ],
      "id": "WFKJLv_2UCgW",
      "execution_count": 441,
      "outputs": [
        {
          "output_type": "execute_result",
          "data": {
            "text/html": [
              "<div>\n",
              "<style scoped>\n",
              "    .dataframe tbody tr th:only-of-type {\n",
              "        vertical-align: middle;\n",
              "    }\n",
              "\n",
              "    .dataframe tbody tr th {\n",
              "        vertical-align: top;\n",
              "    }\n",
              "\n",
              "    .dataframe thead th {\n",
              "        text-align: right;\n",
              "    }\n",
              "</style>\n",
              "<table border=\"1\" class=\"dataframe\">\n",
              "  <thead>\n",
              "    <tr style=\"text-align: right;\">\n",
              "      <th></th>\n",
              "      <th>VIN</th>\n",
              "      <th>post_body</th>\n",
              "      <th>year make model</th>\n",
              "      <th>date</th>\n",
              "      <th>year_c make model</th>\n",
              "      <th>year</th>\n",
              "      <th>model</th>\n",
              "    </tr>\n",
              "  </thead>\n",
              "  <tbody>\n",
              "    <tr>\n",
              "      <th>count</th>\n",
              "      <td>3485</td>\n",
              "      <td>23247</td>\n",
              "      <td>23442</td>\n",
              "      <td>23442</td>\n",
              "      <td>23442</td>\n",
              "      <td>23442</td>\n",
              "      <td>23442</td>\n",
              "    </tr>\n",
              "    <tr>\n",
              "      <th>unique</th>\n",
              "      <td>3288</td>\n",
              "      <td>21397</td>\n",
              "      <td>16162</td>\n",
              "      <td>32</td>\n",
              "      <td>15545</td>\n",
              "      <td>96</td>\n",
              "      <td>1589</td>\n",
              "    </tr>\n",
              "    <tr>\n",
              "      <th>top</th>\n",
              "      <td>3VW917AU4FM072742</td>\n",
              "      <td>Clean title</td>\n",
              "      <td>2010 toyota prius</td>\n",
              "      <td>2021-09-24</td>\n",
              "      <td>2010 toyota prius</td>\n",
              "      <td>2008</td>\n",
              "      <td>nan</td>\n",
              "    </tr>\n",
              "    <tr>\n",
              "      <th>freq</th>\n",
              "      <td>11</td>\n",
              "      <td>87</td>\n",
              "      <td>27</td>\n",
              "      <td>3324</td>\n",
              "      <td>30</td>\n",
              "      <td>1433</td>\n",
              "      <td>806</td>\n",
              "    </tr>\n",
              "  </tbody>\n",
              "</table>\n",
              "</div>"
            ],
            "text/plain": [
              "                      VIN    post_body  ...   year  model\n",
              "count                3485        23247  ...  23442  23442\n",
              "unique               3288        21397  ...     96   1589\n",
              "top     3VW917AU4FM072742  Clean title  ...   2008    nan\n",
              "freq                   11           87  ...   1433    806\n",
              "\n",
              "[4 rows x 7 columns]"
            ]
          },
          "metadata": {},
          "execution_count": 441
        }
      ]
    },
    {
      "cell_type": "code",
      "metadata": {
        "colab": {
          "base_uri": "https://localhost:8080/",
          "height": 171
        },
        "id": "e3OKI6RiUTLS",
        "outputId": "ae3d4aff-4911-445b-e89c-67c26f1ad911"
      },
      "source": [
        "df_filtered.describe(include=['category'])"
      ],
      "id": "e3OKI6RiUTLS",
      "execution_count": 442,
      "outputs": [
        {
          "output_type": "execute_result",
          "data": {
            "text/html": [
              "<div>\n",
              "<style scoped>\n",
              "    .dataframe tbody tr th:only-of-type {\n",
              "        vertical-align: middle;\n",
              "    }\n",
              "\n",
              "    .dataframe tbody tr th {\n",
              "        vertical-align: top;\n",
              "    }\n",
              "\n",
              "    .dataframe thead th {\n",
              "        text-align: right;\n",
              "    }\n",
              "</style>\n",
              "<table border=\"1\" class=\"dataframe\">\n",
              "  <thead>\n",
              "    <tr style=\"text-align: right;\">\n",
              "      <th></th>\n",
              "      <th>city</th>\n",
              "      <th>condition</th>\n",
              "      <th>cylinders</th>\n",
              "      <th>drive</th>\n",
              "      <th>fuel</th>\n",
              "      <th>paint color</th>\n",
              "      <th>size</th>\n",
              "      <th>title status</th>\n",
              "      <th>transmission</th>\n",
              "      <th>type</th>\n",
              "      <th>dayOfWeek</th>\n",
              "      <th>make</th>\n",
              "    </tr>\n",
              "  </thead>\n",
              "  <tbody>\n",
              "    <tr>\n",
              "      <th>count</th>\n",
              "      <td>23442</td>\n",
              "      <td>19472</td>\n",
              "      <td>17816</td>\n",
              "      <td>15835</td>\n",
              "      <td>23442</td>\n",
              "      <td>16961</td>\n",
              "      <td>11763</td>\n",
              "      <td>23442</td>\n",
              "      <td>23442</td>\n",
              "      <td>15598</td>\n",
              "      <td>23442</td>\n",
              "      <td>23395</td>\n",
              "    </tr>\n",
              "    <tr>\n",
              "      <th>unique</th>\n",
              "      <td>15</td>\n",
              "      <td>6</td>\n",
              "      <td>8</td>\n",
              "      <td>3</td>\n",
              "      <td>5</td>\n",
              "      <td>12</td>\n",
              "      <td>4</td>\n",
              "      <td>6</td>\n",
              "      <td>3</td>\n",
              "      <td>13</td>\n",
              "      <td>7</td>\n",
              "      <td>538</td>\n",
              "    </tr>\n",
              "    <tr>\n",
              "      <th>top</th>\n",
              "      <td>newyork</td>\n",
              "      <td>excellent</td>\n",
              "      <td>6 cylinders</td>\n",
              "      <td>4wd</td>\n",
              "      <td>gas</td>\n",
              "      <td>white</td>\n",
              "      <td>full-size</td>\n",
              "      <td>clean</td>\n",
              "      <td>automatic</td>\n",
              "      <td>sedan</td>\n",
              "      <td>Friday</td>\n",
              "      <td>FORD</td>\n",
              "    </tr>\n",
              "    <tr>\n",
              "      <th>freq</th>\n",
              "      <td>1742</td>\n",
              "      <td>8416</td>\n",
              "      <td>6276</td>\n",
              "      <td>5394</td>\n",
              "      <td>21457</td>\n",
              "      <td>3791</td>\n",
              "      <td>6562</td>\n",
              "      <td>21397</td>\n",
              "      <td>20382</td>\n",
              "      <td>4673</td>\n",
              "      <td>5169</td>\n",
              "      <td>3354</td>\n",
              "    </tr>\n",
              "  </tbody>\n",
              "</table>\n",
              "</div>"
            ],
            "text/plain": [
              "           city  condition    cylinders  ...   type dayOfWeek   make\n",
              "count     23442      19472        17816  ...  15598     23442  23395\n",
              "unique       15          6            8  ...     13         7    538\n",
              "top     newyork  excellent  6 cylinders  ...  sedan    Friday   FORD\n",
              "freq       1742       8416         6276  ...   4673      5169   3354\n",
              "\n",
              "[4 rows x 12 columns]"
            ]
          },
          "metadata": {},
          "execution_count": 442
        }
      ]
    },
    {
      "cell_type": "code",
      "metadata": {
        "id": "trtS2VmSVw72"
      },
      "source": [
        "df_filtered.to_csv('/content/drive/MyDrive/Data Science/craigslistproject/cleaned_data.csv', \n",
        "                   sep='\\t', \n",
        "                   encoding='utf-8', \n",
        "                   index=False)"
      ],
      "id": "trtS2VmSVw72",
      "execution_count": 464,
      "outputs": []
    }
  ]
}